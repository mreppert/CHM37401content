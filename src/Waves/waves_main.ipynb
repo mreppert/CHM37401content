{
 "cells": [
  {
   "cell_type": "markdown",
   "metadata": {},
   "source": [
    "# Wavefunctions and Fourier Series\n"
   ]
  },
  {
   "cell_type": "code",
   "execution_count": 1,
   "metadata": {},
   "outputs": [
    {
     "data": {
      "application/javascript": [
       "IPython.OutputArea.auto_scroll_threshold = 9999\n"
      ],
      "text/plain": [
       "<IPython.core.display.Javascript object>"
      ]
     },
     "metadata": {},
     "output_type": "display_data"
    }
   ],
   "source": [
    "%%javascript\n",
    "IPython.OutputArea.auto_scroll_threshold = 9999"
   ]
  },
  {
   "cell_type": "code",
   "execution_count": 2,
   "metadata": {},
   "outputs": [],
   "source": [
    "import math\n",
    "%matplotlib inline\n",
    "import matplotlib.pyplot as plt\n",
    "from IPython.display import Javascript, display\n",
    "from ipywidgets import widgets\n",
    "import IPython.display as ipd\n",
    "import time\n",
    "\n",
    "import numpy as np"
   ]
  },
  {
   "cell_type": "markdown",
   "metadata": {},
   "source": [
    "To open a copy of the template, enter you PUID in the box below and first click \"Copy\" and then \"Open\"."
   ]
  },
  {
   "cell_type": "code",
   "execution_count": 3,
   "metadata": {},
   "outputs": [
    {
     "data": {
      "application/vnd.jupyter.widget-view+json": {
       "model_id": "792f2355242c43d29aa8be3b19970199",
       "version_major": 2,
       "version_minor": 0
      },
      "text/plain": [
       "HBox(children=(Text(value='', description='Purdue ID:', placeholder='User name'), Button(description='Copy Exe…"
      ]
     },
     "metadata": {},
     "output_type": "display_data"
    },
    {
     "data": {
      "application/vnd.jupyter.widget-view+json": {
       "model_id": "4fcd02b8735f4469a967bc1333aefc8e",
       "version_major": 2,
       "version_minor": 0
      },
      "text/plain": [
       "HTML(value='')"
      ]
     },
     "metadata": {},
     "output_type": "display_data"
    },
    {
     "name": "stdout",
     "output_type": "stream",
     "text": [
      "[\"cp: cannot create regular file `../../../../local/Lab1_hoodjd.ipynb': No such file or directory\"]\n"
     ]
    }
   ],
   "source": [
    "import ipywidgets as widgets\n",
    "import os\n",
    "from IPython.display import display\n",
    "from IPython.display import display_markdown\n",
    "\n",
    "HTMLButtonPrompt = '''<html>\n",
    "<head>\n",
    "<meta name=\"viewport\" content=\"width=device-width, initial-scale=1\">\n",
    "</head>\n",
    "<body>\n",
    "<a href=\"{link}\" target=\"_blank\" >\n",
    "<button class=\"p-Widget jupyter-widgets jupyter-button widget-button mod-warning\" style=\"width:100px; background-color:#E9E9E9; font-size:10pt; color:black\">{text}</button>\n",
    "</a>\n",
    "</body>\n",
    "</html>\n",
    "'''\n",
    "\n",
    "\n",
    "HTMLDeadPrompt = '''<html>\n",
    "<head>\n",
    "<meta name=\"viewport\" content=\"width=device-width, initial-scale=1\">\n",
    "</head>\n",
    "<body>\n",
    "<button class=\"p-Widget jupyter-widgets jupyter-button widget-button mod-warning\" style=\"width:100px; background-color:#E9E9E9; font-size:10pt; color:#D2D2D2\">{text}</button>\n",
    "</body>\n",
    "</html>'''\n",
    "\n",
    "\n",
    "\n",
    "def copy_exercise(self):\n",
    "    uname = txt_uname.value.replace(\" \", \"_\").lower()\n",
    "    fpath = \"../../../../local/\"\n",
    "    flist = ['waves_analysis.ipynb', 'img/EditApp.png', 'img/DownloadAs.png']  # NEEDS TO BE UPDATED\n",
    "    \n",
    "    cpname = \"Lab1_\" + uname + \".ipynb\"  # NEEDS TO BE UPDATED\n",
    "\n",
    "    if len(uname)<=0:\n",
    "        print('Please enter a valid user name!')\n",
    "        \n",
    "    elif os.path.isfile(fpath+cpname) and cb_overwrite.value==False:\n",
    "        message_box.value = 'The file already exists! Click \\\"Open\\\" to access.<br> \\\n",
    "        If you want to delete the file and start fresh, you\\'ll need to: <br>  \\\n",
    "           (1) open the file, <br> \\\n",
    "           (2) Click \\\"Edit App\\\" in the top-right corner,<br>\\\n",
    "           (3) Click the File > Open dropdown, and <br> \\\n",
    "           (4) Manually delete the file using the file browser. <br> \\\n",
    "        Then you can return to this page to copy it again. <br> \\\n",
    "        <b>But be careful!</b> This will also delete any data that you\\'ve stored in the notebook!'\n",
    "        bt_open.value=HTMLButtonPrompt.format(link=fpath+cpname, text='Open')\n",
    "        \n",
    "    else:\n",
    "        err = False\n",
    "        \n",
    "        for fname in flist:\n",
    "            \n",
    "            # If it's the first file, reset the file name\n",
    "            if fname==flist[0]:\n",
    "                out = !{\"cp \" + fname + \" \" + fpath+cpname}\n",
    "                if len(out)>0:\n",
    "                    for line in out:\n",
    "                        err = True\n",
    "                        print(out)\n",
    "            else:\n",
    "                \n",
    "                # If it's an image file, make sure the img folder exists\n",
    "                if fname[0:4]=='img/':\n",
    "                    if os.path.isdir(fpath+'/img')==False:\n",
    "                        out = !{'mkdir ' + fpath + '/img'}\n",
    "                        if len(out)>0:\n",
    "                            err = True\n",
    "                            for line in out:\n",
    "                                print(out)\n",
    "                                \n",
    "                # Now copy the file\n",
    "                out = !{\"cp \" + fname + \" \" + fpath+fname}\n",
    "                if len(out)>0:\n",
    "                    for line in out:\n",
    "                        err = True\n",
    "                        print(out)\n",
    "                \n",
    "        if err==False:\n",
    "            bt_open.value=HTMLButtonPrompt.format(link=fpath+cpname, text='Open')\n",
    "    \n",
    "txt_uname = widgets.Text(\n",
    "    value='',\n",
    "    placeholder='User name',\n",
    "    description='Purdue ID:',\n",
    "    disabled=False\n",
    ")\n",
    "\n",
    "\n",
    "bt_genfile = widgets.Button(\n",
    "    description='Copy Exercise',\n",
    "    disabled=False,\n",
    "    button_style='', # 'success', 'info', 'warning', 'danger' or ''\n",
    "    tooltip='Enter your username and then click to create a local exercise file'\n",
    ")\n",
    "\n",
    "bt_open = widgets.HTML(HTMLDeadPrompt.format(text='Open'))\n",
    "\n",
    "cb_overwrite = widgets.Checkbox(\n",
    "    value=False,\n",
    "    description='Overwrite Existing?',\n",
    "    disabled=False\n",
    ")\n",
    "\n",
    "bt_genfile.on_click(copy_exercise)\n",
    "\n",
    "message_box = widgets.HTML('')\n",
    "\n",
    "display(widgets.HBox([txt_uname, bt_genfile, bt_open]))\n",
    "display(message_box)\n"
   ]
  },
  {
   "cell_type": "code",
   "execution_count": null,
   "metadata": {},
   "outputs": [],
   "source": []
  }
 ],
 "metadata": {
  "kernelspec": {
   "display_name": "Python 3.8",
   "language": "python",
   "name": "python3"
  },
  "language_info": {
   "codemirror_mode": {
    "name": "ipython",
    "version": 3
   },
   "file_extension": ".py",
   "mimetype": "text/x-python",
   "name": "python",
   "nbconvert_exporter": "python",
   "pygments_lexer": "ipython3",
   "version": "3.8.10"
  },
  "toc": {
   "base_numbering": 1,
   "nav_menu": {},
   "number_sections": true,
   "sideBar": true,
   "skip_h1_title": false,
   "title_cell": "Table of Contents",
   "title_sidebar": "Contents",
   "toc_cell": false,
   "toc_position": {},
   "toc_section_display": true,
   "toc_window_display": false
  },
  "varInspector": {
   "cols": {
    "lenName": 16,
    "lenType": 16,
    "lenVar": 40
   },
   "kernels_config": {
    "python": {
     "delete_cmd_postfix": "",
     "delete_cmd_prefix": "del ",
     "library": "var_list.py",
     "varRefreshCmd": "print(var_dic_list())"
    },
    "r": {
     "delete_cmd_postfix": ") ",
     "delete_cmd_prefix": "rm(",
     "library": "var_list.r",
     "varRefreshCmd": "cat(var_dic_list()) "
    }
   },
   "types_to_exclude": [
    "module",
    "function",
    "builtin_function_or_method",
    "instance",
    "_Feature"
   ],
   "window_display": false
  }
 },
 "nbformat": 4,
 "nbformat_minor": 4
}
