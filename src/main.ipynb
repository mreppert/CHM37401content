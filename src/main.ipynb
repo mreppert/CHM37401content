{
 "cells": [
  {
   "cell_type": "code",
   "execution_count": 1,
   "metadata": {},
   "outputs": [
    {
     "data": {
      "application/javascript": [
       "IPython.OutputArea.auto_scroll_threshold = 9999\n"
      ],
      "text/plain": [
       "<IPython.core.display.Javascript object>"
      ]
     },
     "metadata": {},
     "output_type": "display_data"
    }
   ],
   "source": [
    "%%javascript\n",
    "IPython.OutputArea.auto_scroll_threshold = 9999"
   ]
  },
  {
   "cell_type": "code",
   "execution_count": 3,
   "metadata": {},
   "outputs": [],
   "source": [
    "from IPython.display import display_markdown\n",
    "import sys, os\n",
    "\n",
    "import schedule"
   ]
  },
  {
   "cell_type": "markdown",
   "metadata": {},
   "source": [
    "# CHM 37401: Physical Chemistry Laboratory\n",
    "\n"
   ]
  },
  {
   "cell_type": "code",
   "execution_count": 8,
   "metadata": {},
   "outputs": [
    {
     "data": {
      "text/markdown": [
       "Welcome to Physical Chemistry Laboratory!<br><br> This site hosts Jupyter Notebooks where you can upload, import, and analyze your experimental data and write electronic lab reports for each laboratory period. The schedule below will be updated each week with links to the relevant notebook sessions.\r",
       "## Experiment 1 \r",
       " * <b>Jan 13</b>: <a href=\"./Waves/waves_main.ipynb\"> <span style=\"color:Black;text-decoration:underline\">Group A: Wavefunctions and Fourier Series</span></a> \r",
       "\r",
       " * <b>Jan 20</b>: <a href=\"./Waves/waves_main.ipynb\"> <span style=\"color:Black;text-decoration:underline\">Group B: Wavefunctions and Fourier Series</span></a> \r",
       "\r",
       "\r",
       "## Experiment 2 \r",
       " * <b>Jan 27</b>: <a href=\"./ElectronDiffraction/electron_diffraction_main.ipynb\"> <span style=\"color:Black;text-decoration:underline\">Group A: Electron Diffraction</span></a> \r",
       "\r",
       " * <b>Feb 3</b>: <a href=\"./ElectronDiffraction/electron_diffraction_main.ipynb\"> <span style=\"color:Black;text-decoration:underline\">Group B: Electron Diffraction</span></a> \r",
       "\r",
       "\r",
       "## Experiment 3 \r",
       " * <b>Feb 10</b>: <a href=\"./Raman/raman_part1_main.ipynb\"> <span style=\"color:Black;text-decoration:underline\">Group A: Raman Spectroscopy Part 1</span></a> \r",
       "\r",
       " * <b>Feb 17</b>: <a href=\"./Raman/raman_part2.ipynb\"> <span style=\"color:Black;text-decoration:underline\">Group A: Raman Spectroscopy Part 2</span></a> \r",
       "\r",
       " * <b>Feb 24</b>: <a href=\"./Raman/raman_part1_main.ipynb\"> <span style=\"color:Black;text-decoration:underline\">Group B: Raman Spectroscopy Part 1</span></a> \r",
       "\r",
       " * <b>Mar 3</b>: <a href=\"./Raman/raman_part2.ipynb\"> <span style=\"color:Black;text-decoration:underline\">Group B: Raman Spectroscopy Part 2</span></a> \r",
       "\r"
      ]
     },
     "metadata": {},
     "output_type": "display_data"
    }
   ],
   "source": [
    "import importlib\n",
    "importlib.reload(schedule)\n",
    "\n",
    "schd = schedule.build_schedule_s2022('./')\n",
    "schd.print_events()"
   ]
  },
  {
   "cell_type": "code",
   "execution_count": null,
   "metadata": {},
   "outputs": [],
   "source": []
  }
 ],
 "metadata": {
  "kernelspec": {
   "display_name": "Python 3.8",
   "language": "python",
   "name": "python3"
  },
  "language_info": {
   "codemirror_mode": {
    "name": "ipython",
    "version": 3
   },
   "file_extension": ".py",
   "mimetype": "text/x-python",
   "name": "python",
   "nbconvert_exporter": "python",
   "pygments_lexer": "ipython3",
   "version": "3.8.10"
  },
  "toc": {
   "base_numbering": 1,
   "nav_menu": {},
   "number_sections": true,
   "sideBar": true,
   "skip_h1_title": false,
   "title_cell": "Table of Contents",
   "title_sidebar": "Contents",
   "toc_cell": false,
   "toc_position": {},
   "toc_section_display": true,
   "toc_window_display": false
  },
  "varInspector": {
   "cols": {
    "lenName": 16,
    "lenType": 16,
    "lenVar": 40
   },
   "kernels_config": {
    "python": {
     "delete_cmd_postfix": "",
     "delete_cmd_prefix": "del ",
     "library": "var_list.py",
     "varRefreshCmd": "print(var_dic_list())"
    },
    "r": {
     "delete_cmd_postfix": ") ",
     "delete_cmd_prefix": "rm(",
     "library": "var_list.r",
     "varRefreshCmd": "cat(var_dic_list()) "
    }
   },
   "types_to_exclude": [
    "module",
    "function",
    "builtin_function_or_method",
    "instance",
    "_Feature"
   ],
   "window_display": false
  }
 },
 "nbformat": 4,
 "nbformat_minor": 4
}
