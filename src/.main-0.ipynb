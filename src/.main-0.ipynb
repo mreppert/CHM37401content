{
 "cells": [
  {
   "cell_type": "code",
   "execution_count": 1,
   "metadata": {},
   "outputs": [
    {
     "data": {
      "application/javascript": [
       "IPython.OutputArea.auto_scroll_threshold = 9999\n"
      ],
      "text/plain": [
       "<IPython.core.display.Javascript object>"
      ]
     },
     "metadata": {},
     "output_type": "display_data"
    }
   ],
   "source": [
    "%%javascript\n",
    "IPython.OutputArea.auto_scroll_threshold = 9999"
   ]
  },
  {
   "cell_type": "code",
   "execution_count": 11,
   "metadata": {},
   "outputs": [],
   "source": [
    "from IPython.display import display_markdown\n",
    "import sys, os\n",
    "\n",
    "import schedule"
   ]
  },
  {
   "cell_type": "markdown",
   "metadata": {},
   "source": [
    "# CHM 37301: Physical Chemistry Laboratory\n",
    "\n"
   ]
  },
  {
   "cell_type": "code",
   "execution_count": 35,
   "metadata": {},
   "outputs": [
    {
     "data": {
      "text/markdown": [
       "Welcome to CHM37301, Physical Chemistry Laboratory. This site will host Jupyter Notebooks where you can upload, import, and analyze your experimental data and write electronic lab reports for each laboratory period. The schedule below will be updated each week with links to the relevant notebook sessions.\r",
       "## Experiment 1 \r",
       " * <b>Aug 23</b>: <span style=\"color:Black\">Group A: Temp. Sensors and Computer Analysis</span> \r",
       "\r",
       " * <b>Aug 30</b>: <span style=\"color:Black\">Group B: Temp. Sensors and Computer Analysis</span> \r",
       "\r",
       "\r",
       "## Experiment 2 \r",
       " * <b>Sep 6</b>: <span style=\"color:Black\">Group A: Electronic Spectroscopy Part 1</span> \r",
       "\r",
       " * <b>Sep 13</b>: <span style=\"color:Black\">Group A: Electronic Spectroscopy Part 2</span> \r",
       "\r",
       " * <b>Sep 20</b>: <span style=\"color:Black\">Group B: Electronic Spectroscopy Part 1</span> \r",
       "\r",
       " * <b>Sep 27</b>: <span style=\"color:Black\">Group B: Electronic Spectroscopy Part 2</span> \r",
       "\r",
       "\r",
       "## Experiment 3 \r",
       " * <b>Oct 4</b>: <span style=\"color:Black\">Group A: Gas Phase Kinetics Part 1</span> \r",
       "\r",
       " * <b>Oct 11</b>: <span style=\"color:Purple\">October Break (No labs)</span> \r",
       "\r",
       " * <b>Oct 18</b>: <span style=\"color:Black\">Group A: Gas Phase Kinetics Part 2</span> \r",
       "\r",
       " * <b>Oct 25</b>: <span style=\"color:Black\">Group B: Gas Phase Kinetics Part 1</span> \r",
       "\r",
       " * <b>Nov 1</b>: <span style=\"color:Black\">Group B: Gas Phase Kinetics Part 1</span> \r",
       "\r",
       "\r",
       "## Experiment 4 \r",
       " * <b>Nov 8</b>: <span style=\"color:Black\">Group A: Joule Thomson Part 1</span> \r",
       "\r",
       " * <b>Nov 15</b>: <span style=\"color:Black\">Group A: Joule Thomson Part 2</span> \r",
       "\r",
       " * <b>Nov 22</b>: <span style=\"color:Purple\">Thanksgiving (No labs)</span> \r",
       "\r",
       " * <b>Nov 29</b>: <span style=\"color:Black\">Group B: Joule Thomson Part 1</span> \r",
       "\r",
       " * <b>Dec 6</b>: <span style=\"color:Black\">Group B: Joule Thomson Part 2</span> \r",
       "\r"
      ]
     },
     "metadata": {},
     "output_type": "display_data"
    }
   ],
   "source": [
    "import importlib\n",
    "importlib.reload(schedule)\n",
    "\n",
    "schd = schedule.build_schedule_f2021('./')\n",
    "schd.print_events()"
   ]
  },
  {
   "cell_type": "code",
   "execution_count": null,
   "metadata": {},
   "outputs": [],
   "source": []
  }
 ],
 "metadata": {
  "kernelspec": {
   "display_name": "Python 3",
   "language": "python",
   "name": "python3"
  },
  "language_info": {
   "codemirror_mode": {
    "name": "ipython",
    "version": 3
   },
   "file_extension": ".py",
   "mimetype": "text/x-python",
   "name": "python",
   "nbconvert_exporter": "python",
   "pygments_lexer": "ipython3",
   "version": "3.7.7"
  }
 },
 "nbformat": 4,
 "nbformat_minor": 2
}
