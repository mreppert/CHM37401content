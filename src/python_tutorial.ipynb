{
 "cells": [
  {
   "cell_type": "markdown",
   "metadata": {},
   "source": [
    "# Python and Jupyter tutorial\n",
    "This notebook is a tutorial to Jupyter and Python.  The first lab will reference sections in this notebook..  You can refer back to this notebook for hints throughout the semester.\n",
    "\n",
    "Jupyter notebook is a web-based document that can run Python code.  Python is a programming language that is widely used in industry and research.  Since Jupyter is free and open source, you can install it on your own computer. \n",
    "\n",
    "Because Python is so popular, there are many helpful tutorials and references online.  If you are confused about something in Python, a quick google search usually is very hepful.\n"
   ]
  },
  {
   "cell_type": "markdown",
   "metadata": {},
   "source": [
    "# Section 1: Running Python code\n",
    "Run Python code in a cell by selecting the cell and then either clicking run, or the shortcut Ctrl-Enter.  Run the print statement below. Add comments to your with #.  Anything on the line after # will be ignored."
   ]
  },
  {
   "cell_type": "code",
   "execution_count": 76,
   "metadata": {},
   "outputs": [
    {
     "name": "stdout",
     "output_type": "stream",
     "text": [
      "Hello world\n"
     ]
    }
   ],
   "source": [
    "print(\"Hello world\") # comments to your code"
   ]
  },
  {
   "cell_type": "markdown",
   "metadata": {},
   "source": [
    "# Section 2: Inserting text into the notebook \n",
    "\n",
    "The Jupyter notebook will also serve as your lab notebook this semester. \n",
    "Comments can be added to your python code by inserting #, as shown in the print example.\n",
    "\n",
    "Text can be inserted into your notebook by changing a cell type to Markdown.\n",
    "\n",
    "If you run the text cell (ctrl-enter), it will format the text nicely."
   ]
  },
  {
   "attachments": {
    "image.png": {
     "image/png": "[encoded data removed]"
    }
   },
   "cell_type": "markdown",
   "metadata": {},
   "source": [
    "![image.png](attachment:image.png)"
   ]
  },
  {
   "cell_type": "markdown",
   "metadata": {},
   "source": [
    "Different font sizes are selected by inserting a different number of # before the title.\n",
    "# Title 1\n",
    "## Title 2\n",
    "### Title 3"
   ]
  },
  {
   "cell_type": "markdown",
   "metadata": {},
   "source": [
    "# Section 3: Simple math\n"
   ]
  },
  {
   "cell_type": "markdown",
   "metadata": {},
   "source": [
    "Define a variable x and print the value."
   ]
  },
  {
   "cell_type": "code",
   "execution_count": 77,
   "metadata": {},
   "outputs": [
    {
     "name": "stdout",
     "output_type": "stream",
     "text": [
      "7\n"
     ]
    }
   ],
   "source": [
    "x = 2+5\n",
    "print(x)"
   ]
  },
  {
   "cell_type": "markdown",
   "metadata": {},
   "source": [
    "In this case, x is an integer.  We can see that x is an integer by using type().  Notice that the following cell still has access to the variable x defined in the previous cell."
   ]
  },
  {
   "cell_type": "code",
   "execution_count": 78,
   "metadata": {},
   "outputs": [
    {
     "data": {
      "text/plain": [
       "int"
      ]
     },
     "execution_count": 78,
     "metadata": {},
     "output_type": "execute_result"
    }
   ],
   "source": [
    "type(x)"
   ]
  },
  {
   "cell_type": "markdown",
   "metadata": {},
   "source": [
    "# Section 4: Importing Libraries\n",
    "We will now import our first library, which will give us access to all of its functions.  You only need to import a library once in a notebook.  \n",
    "\n",
    "In this case, we will import the library \"numpy,\" which has many useful mathematical definitions such as sine, cosine, and an exponential.  We will give the library the nickname \"np,\" which we use to reference it.  \n",
    "\n",
    "If numpy has a function called sin() in its library, then we can use it with the notation np.sin().  Here are examples of math functions and constants we will use in the lab."
   ]
  },
  {
   "cell_type": "code",
   "execution_count": 79,
   "metadata": {},
   "outputs": [
    {
     "name": "stdout",
     "output_type": "stream",
     "text": [
      "0.9092974268256817\n",
      "0.1353352832366127\n",
      "4\n",
      "3.141592653589793\n",
      "2.0\n",
      "1.4142135623730951\n"
     ]
    }
   ],
   "source": [
    "import numpy as np # import the numpy library and give it the shortcut np\n",
    "\n",
    "# A function in numpy is called with np.function()\n",
    "x = np.sin(2) #trig functions\n",
    "print(x)\n",
    "\n",
    "x = np.exp(-2) #exponential\n",
    "print(x)\n",
    "\n",
    "x = 2**2 # 2^2, exponents are written with ** in Python\n",
    "print(x)\n",
    "\n",
    "print(np.pi) # 3.141....\n",
    "\n",
    "print(np.sqrt(4)) # square root function\n",
    "\n",
    "print( np.sqrt(2)*np.sin(np.pi/2) ) # a more complicated function sqrt(2)*sin(pi/2)"
   ]
  },
  {
   "cell_type": "markdown",
   "metadata": {},
   "source": [
    "# Section 5: Lists\n",
    "The numpy library also makes it easy to create and manipulate lists.  Make an array of data and print the contents.\n",
    "\n",
    "#### Note that if you already imported numpy in a different cell, you do not have to do it again. "
   ]
  },
  {
   "cell_type": "code",
   "execution_count": 80,
   "metadata": {
    "scrolled": true
   },
   "outputs": [
    {
     "name": "stdout",
     "output_type": "stream",
     "text": [
      "[0 1 2 3 4 5]\n"
     ]
    }
   ],
   "source": [
    "import numpy as np # import the numpy library and give it the shortcut np.  \n",
    "\n",
    "xlist = np.array([0, 1, 2, 3, 4, 5]) # create an array\n",
    "print(xlist)"
   ]
  },
  {
   "cell_type": "markdown",
   "metadata": {},
   "source": [
    "You can select individual elements from the list.  Note that in Python, 0 is the first index.  You can use negative indices to get values from the end of the array."
   ]
  },
  {
   "cell_type": "code",
   "execution_count": 81,
   "metadata": {},
   "outputs": [
    {
     "name": "stdout",
     "output_type": "stream",
     "text": [
      "0\n",
      "5\n",
      "5\n"
     ]
    }
   ],
   "source": [
    "print(xlist[0]) # get first element of list\n",
    "\n",
    "print(xlist[5])  # get last element \n",
    "print(xlist[-1]) # get last element using a negative index"
   ]
  },
  {
   "cell_type": "markdown",
   "metadata": {},
   "source": [
    "The lists are easy to manipulate. For example, here multiply a list by 2.  "
   ]
  },
  {
   "cell_type": "code",
   "execution_count": 82,
   "metadata": {
    "scrolled": true
   },
   "outputs": [
    {
     "name": "stdout",
     "output_type": "stream",
     "text": [
      "[ 0  2  4  6  8 10]\n",
      "[ 0  2  4  6  8 10]\n",
      "[ 0.          0.84147098  0.90929743  0.14112001 -0.7568025  -0.95892427]\n"
     ]
    }
   ],
   "source": [
    "print( 2*xlist ) # multiply list by constant\n",
    "print( xlist + xlist ) # add two lists together\n",
    "print( np.sin(xlist) ) # functions can operate on lists"
   ]
  },
  {
   "cell_type": "markdown",
   "metadata": {},
   "source": [
    "Numpy also has useful functions for making evenly spaced arrays. "
   ]
  },
  {
   "cell_type": "code",
   "execution_count": 83,
   "metadata": {},
   "outputs": [
    {
     "data": {
      "text/plain": [
       "array([ 0.,  1.,  2.,  3.,  4.,  5.,  6.,  7.,  8.,  9., 10.])"
      ]
     },
     "execution_count": 83,
     "metadata": {},
     "output_type": "execute_result"
    }
   ],
   "source": [
    "np.linspace(0, 10, 11) # evenly space array from 0 to 10 with 11 points"
   ]
  },
  {
   "cell_type": "code",
   "execution_count": 84,
   "metadata": {},
   "outputs": [
    {
     "data": {
      "text/plain": [
       "array([0, 1, 2, 3, 4, 5, 6, 7, 8, 9])"
      ]
     },
     "execution_count": 84,
     "metadata": {},
     "output_type": "execute_result"
    }
   ],
   "source": [
    "np.arange(0,10)# integer spaced list from 0 to 9"
   ]
  },
  {
   "cell_type": "markdown",
   "metadata": {},
   "source": [
    "# Section 6: Plotting\n",
    "In this example, we will plot a sine function.\n",
    "\n",
    "For plotting, we will install the library matplotlib and give it the nickname plt. \n",
    "We will first define a evenly space grid for the x-axis.   We need this because our sine function np.sin() will need to operate on a list of values to make the y-axis.\n",
    "\n",
    "For example:\n",
    "\n",
    "x = \\[0, 1, 2\\]   \n",
    "y = np.sin(x)  -->   outputs  \\[sin(0), sin(1), sin(2)\\]\n"
   ]
  },
  {
   "cell_type": "code",
   "execution_count": 85,
   "metadata": {},
   "outputs": [
    {
     "name": "stdout",
     "output_type": "stream",
     "text": [
      "[0.  0.3 0.6 0.9 1.2 1.5 1.8 2.1 2.4 2.7 3.  3.3 3.6 3.9 4.2 4.5 4.8 5.1\n",
      " 5.4 5.7 6. ]\n"
     ]
    },
    {
     "data": {
      "image/png": "[encoded data removed]",
      "text/plain": [
       "<Figure size 432x288 with 1 Axes>"
      ]
     },
     "metadata": {
      "needs_background": "light"
     },
     "output_type": "display_data"
    }
   ],
   "source": [
    "import matplotlib.pyplot as plt # if you already imported this, you don't need to repeat again\n",
    "\n",
    "x = np.linspace(0, 6, 21) # define an evenly spaced array from 0 to 6 with 21 points for the x-axis data\n",
    "print(x)\n",
    "\n",
    "y = np.sin(x) # define the y-axis data\n",
    "\n",
    "plt.plot(x,y) # make a plot \n",
    "plt.show() # show the plot"
   ]
  },
  {
   "cell_type": "markdown",
   "metadata": {},
   "source": [
    "Here we change the color to red with the argument 'r' and then label the axes. \n"
   ]
  },
  {
   "cell_type": "code",
   "execution_count": 86,
   "metadata": {
    "scrolled": true
   },
   "outputs": [
    {
     "data": {
      "image/png": "[encoded data removed]",
      "text/plain": [
       "<Figure size 432x288 with 1 Axes>"
      ]
     },
     "metadata": {
      "needs_background": "light"
     },
     "output_type": "display_data"
    }
   ],
   "source": [
    "plt.plot(x,y,'r') # make a red curve. Also try 'g-'\n",
    "plt.xlabel('X label')\n",
    "plt.ylabel('Y label')\n",
    "plt.title('Plot title')\n",
    "plt.show() # show the plot"
   ]
  },
  {
   "cell_type": "markdown",
   "metadata": {},
   "source": [
    "In this next example, we will plot two curves on the same graph by calling plot.plot() twice in the same cell.  \n",
    "Note that if you call plt.plot() in a different cell, it will start a new graph."
   ]
  },
  {
   "cell_type": "code",
   "execution_count": 87,
   "metadata": {
    "scrolled": true
   },
   "outputs": [
    {
     "data": {
      "image/png": "[encoded data removed]",
      "text/plain": [
       "<Figure size 432x288 with 1 Axes>"
      ]
     },
     "metadata": {
      "needs_background": "light"
     },
     "output_type": "display_data"
    }
   ],
   "source": [
    "plt.plot(x, y,'r')  # plot first curve\n",
    "plt.plot(x, 2*y, 'g-') # plot second curve on top of first axes using green dashed\n",
    "plt.xlabel('X label')\n",
    "plt.ylabel('Y label')\n",
    "plt.title('Plot title')\n",
    "plt.show() # show the plot"
   ]
  },
  {
   "cell_type": "markdown",
   "metadata": {},
   "source": [
    "Adding a legend and making a scatter plot (optional).  "
   ]
  },
  {
   "cell_type": "code",
   "execution_count": 88,
   "metadata": {},
   "outputs": [
    {
     "data": {
      "image/png": "[encoded data removed]",
      "text/plain": [
       "<Figure size 432x288 with 1 Axes>"
      ]
     },
     "metadata": {
      "needs_background": "light"
     },
     "output_type": "display_data"
    }
   ],
   "source": [
    "plt.plot(x, y, label='first')  # plot first curve\n",
    "plt.scatter(x, 2*y, label='second') # plot a scatter plot on top of first plot \n",
    "plt.xlabel('X label')\n",
    "plt.ylabel('Y label')\n",
    "plt.title('Plot title')\n",
    "plt.legend(loc='best') # create a legend using the plot labels\n",
    "plt.show() # show the plot"
   ]
  },
  {
   "cell_type": "markdown",
   "metadata": {},
   "source": [
    "Plotting a histogram.  Here we will make a list of 10 random numbers and plot them in a histogram "
   ]
  },
  {
   "cell_type": "code",
   "execution_count": 89,
   "metadata": {},
   "outputs": [
    {
     "name": "stdout",
     "output_type": "stream",
     "text": [
      "[0.24713992 0.64058386 0.19953638 0.76998922 0.23746762 0.37704026\n",
      " 0.46814011 0.80712016 0.18711376 0.6009754  0.91677165 0.62870018\n",
      " 0.83138287 0.41589205 0.59021748 0.26972122 0.27138718 0.57931942\n",
      " 0.76140559 0.35649334 0.65425369 0.85488283 0.91523226 0.93968945\n",
      " 0.6695013  0.36886203 0.08196254 0.30842917 0.16724975 0.43849619\n",
      " 0.18664823 0.03243244 0.24719518 0.99210393 0.83067936 0.2431406\n",
      " 0.1087588  0.41431369 0.38201667 0.05956176 0.22285518 0.82266434\n",
      " 0.08075788 0.42444149 0.61686773 0.90954358 0.92344621 0.84079393\n",
      " 0.94322869 0.71797175]\n"
     ]
    },
    {
     "data": {
      "image/png": "[encoded data removed]",
      "text/plain": [
       "<Figure size 432x288 with 1 Axes>"
      ]
     },
     "metadata": {
      "needs_background": "light"
     },
     "output_type": "display_data"
    }
   ],
   "source": [
    "y = np.random.rand(50)  # make a list of 50 random number between 0 and 1\n",
    "print(y)\n",
    "plt.hist(y, 10, density=True) #use 10 bins\n",
    "plt.show()"
   ]
  },
  {
   "cell_type": "markdown",
   "metadata": {},
   "source": [
    "# Section 7: Defining a function\n",
    "Here is how to define a function.  In python, the content of the function is indented. The function ends when the indentation stops.  Note that you must include the colon after the function name."
   ]
  },
  {
   "cell_type": "code",
   "execution_count": 131,
   "metadata": {
    "scrolled": true
   },
   "outputs": [
    {
     "name": "stdout",
     "output_type": "stream",
     "text": [
      "1\n"
     ]
    }
   ],
   "source": [
    "import matplotlib.pyplot as plt\n",
    "import numpy as np\n",
    "\n",
    "# Define a function with two inputs\n",
    "def functionname(x, a):\n",
    "    y = a*x # line\n",
    "    return y # this value will be returned from the function\n",
    "\n",
    " # Call the function with x=1, a=1\n",
    "y = functionname(1, 1)\n",
    "print(y)\n"
   ]
  },
  {
   "cell_type": "markdown",
   "metadata": {},
   "source": [
    "Here we use the fnction to make a list of points to plot. "
   ]
  },
  {
   "cell_type": "code",
   "execution_count": 102,
   "metadata": {},
   "outputs": [
    {
     "data": {
      "image/png": "[encoded data removed]",
      "text/plain": [
       "<Figure size 432x288 with 1 Axes>"
      ]
     },
     "metadata": {
      "needs_background": "light"
     },
     "output_type": "display_data"
    }
   ],
   "source": [
    "x = np.linspace(0,4,10) # evenly spaced array from 0 to 4 with 10 points\n",
    "y = functionname(x, 1) # call the function defined in the last cell\n",
    "plt.scatter(x,y) # similar to plot(), but with points instead of a line\n",
    "plt.show()"
   ]
  },
  {
   "cell_type": "markdown",
   "metadata": {},
   "source": [
    "# Section 8: Importing data from csv file"
   ]
  },
  {
   "cell_type": "markdown",
   "metadata": {},
   "source": [
    "Here we import data from a csv file made in Excel. Excel by default saves as .xlsx, but you can select to save as a csv file. \n",
    "\n",
    "Open Excel and insert data into two columns, and include column names."
   ]
  },
  {
   "attachments": {
    "image.png": {
     "image/png": "[encoded data removed]"
    }
   },
   "cell_type": "markdown",
   "metadata": {},
   "source": [
    "![image.png](attachment:image.png)"
   ]
  },
  {
   "cell_type": "markdown",
   "metadata": {},
   "source": [
    "Save the excel spreadsheet as a \".csv\" file in the same folder as the Jupyter notebook."
   ]
  },
  {
   "attachments": {
    "image.png": {
     "image/png": "[encoded data removed]"
    }
   },
   "cell_type": "markdown",
   "metadata": {},
   "source": [
    "![image.png](attachment:image.png)"
   ]
  },
  {
   "cell_type": "markdown",
   "metadata": {},
   "source": [
    "For importing data, we will use the library Pandas.  Import the library and then import the csv data.  We saved the contents of data.csv into an object \"df.\"  We then set the data in column with header \"x\" into an array \"x\". "
   ]
  },
  {
   "cell_type": "code",
   "execution_count": 1,
   "metadata": {},
   "outputs": [
    {
     "name": "stdout",
     "output_type": "stream",
     "text": [
      "     x    y\n",
      "0    0    0\n",
      "1    1    1\n",
      "2    2    4\n",
      "3    3    9\n",
      "4    4   16\n",
      "5    5   25\n",
      "6    6   36\n",
      "7    7   49\n",
      "8    8   64\n",
      "9    9   81\n",
      "10  10  100\n"
     ]
    },
    {
     "data": {
      "image/png": "[encoded data removed]",
      "text/plain": [
       "<Figure size 432x288 with 1 Axes>"
      ]
     },
     "metadata": {
      "needs_background": "light"
     },
     "output_type": "display_data"
    }
   ],
   "source": [
    "import pandas as pd # Import pandas library with nickname pd\n",
    "import matplotlib.pyplot as plt\n",
    "\n",
    "df = pd.read_csv('data.csv') # read the csv file and save content in object df\n",
    "print(df) # Look at the content of df\n",
    "x = df[\"x\"].to_numpy() # Save data in the column with header \"x\" as a numpy array called x\n",
    "y = df[\"y\"].to_numpy() \n",
    "plt.scatter(x,y) #plot with points instead of line\n",
    "plt.xlabel('x')\n",
    "plt.ylabel('y')\n",
    "plt.show()\n"
   ]
  },
  {
   "cell_type": "markdown",
   "metadata": {},
   "source": [
    "# Section 9: Fitting data"
   ]
  },
  {
   "cell_type": "markdown",
   "metadata": {},
   "source": [
    "In lab, we will often want to fit a model to measured data.  In this example, we will fit a sine function to noisy data. \n"
   ]
  },
  {
   "cell_type": "markdown",
   "metadata": {},
   "source": [
    "To add noise to data, we will make a list of 50 random value taken from a normal distribution."
   ]
  },
  {
   "cell_type": "code",
   "execution_count": 1,
   "metadata": {},
   "outputs": [
    {
     "name": "stdout",
     "output_type": "stream",
     "text": [
      "[ 0.49468385  2.79524194 -0.76363597  0.54514284 -1.19805745 -0.93778852\n",
      "  0.13617796  0.34106346 -0.37290552 -0.06260774  0.53161365  0.53810678\n",
      " -0.42096959 -0.8461914   1.34241086  2.0023693  -0.26638985 -0.30283805\n",
      "  0.65217604 -1.67991488  0.64009056  1.01902713  0.19225523 -0.14717714\n",
      " -0.85060791  0.63504353 -0.87557711  0.72478229  1.8141468   0.14770509\n",
      " -1.39042991  0.15565488 -0.5568354  -1.42134675  1.3188519  -0.96663925\n",
      " -1.70519977  0.69407835  0.15710329 -0.81151295  1.75873111 -0.5747847\n",
      " -1.11367351 -1.06091145 -0.17861919 -0.27686165  0.9408676   0.13543138\n",
      " -0.37347471  0.72649117]\n"
     ]
    }
   ],
   "source": [
    "import numpy as np\n",
    "import matplotlib.pyplot as plt\n",
    "\n",
    "noise = np.random.normal(size=50) \n",
    "print(noise)"
   ]
  },
  {
   "cell_type": "markdown",
   "metadata": {},
   "source": [
    "Now we will make a sine curve with 50 points and add the noise to it. "
   ]
  },
  {
   "cell_type": "code",
   "execution_count": 2,
   "metadata": {},
   "outputs": [
    {
     "data": {
      "image/png": "[encoded data removed]",
      "text/plain": [
       "<Figure size 432x288 with 1 Axes>"
      ]
     },
     "metadata": {
      "needs_background": "light"
     },
     "output_type": "display_data"
    }
   ],
   "source": [
    "# Create data with noise\n",
    "x_data = np.linspace(-5, 5, 50)\n",
    "y_data = np.sin(1.5 * x_data) \n",
    "y_data2 = y_data + 0.2*np.random.normal(0,1,50)  # for noise, add a list of 50 points randomly generated from a normal distribution\n",
    "\n",
    "# Plot data with scatter plot\n",
    "plt.scatter(x_data, y_data2)\n",
    "plt.show()"
   ]
  },
  {
   "cell_type": "markdown",
   "metadata": {},
   "source": [
    "For fitting, import the function 'curve_fit' from the library 'scipy.optimize.'  To fit, we will define a model function fit_func(x, a) with a fitting parameter 'a'. Then we will call the function 'curve_fit' to perform the fit with starting guess 2 for 'a'.  The computer will start with a=2, and then vary a until the difference between the model and data is smallest. "
   ]
  },
  {
   "cell_type": "code",
   "execution_count": 3,
   "metadata": {
    "scrolled": true
   },
   "outputs": [
    {
     "name": "stdout",
     "output_type": "stream",
     "text": [
      "1.4889084418099534\n",
      "0.012775384936708645\n"
     ]
    }
   ],
   "source": [
    "from scipy.optimize import curve_fit # import only curve_fit function from scipy library\n",
    "\n",
    "# Define a function to fit to the data, with a as the fitting variable.\n",
    "def fit_func(x, a):  # the function needs input arguments x and a.  a is the fitting parameter, and x is the independent variable.\n",
    "    y = np.sin(a * x) # this is the function we are going to tell the computer to fit with\n",
    "    return y  # the function returns this value, y = fit_func(x,a)\n",
    "\n",
    "# Perform the fit with a guess \n",
    "params, covariance = curve_fit(fit_func, x_data, y_data, p0=[2]) # Fit fit_func to data and use a=2 as starting guess\n",
    "\n",
    "# params contains the bestfit parameters for a\n",
    "a_bestfit = params[0]\n",
    "print( a_bestfit )\n",
    "\n",
    "# sqrt(covariance is the covariance matrix. Since we only have 1 fitting variable, the covariance is just a single element. \n",
    "# The square roots of the diagonal elements for the error of the fitted parameters.  which gives information about the goodness of the fit and uncertainty of the parameters.  \n",
    "error = np.sqrt(np.diagonal(covariance))\n",
    "a_error = error[0]\n",
    "print( a_error )\n"
   ]
  },
  {
   "cell_type": "markdown",
   "metadata": {},
   "source": [
    "Plot the noisy data with the fit"
   ]
  },
  {
   "cell_type": "code",
   "execution_count": 127,
   "metadata": {},
   "outputs": [
    {
     "data": {
      "image/png": "[encoded data removed]",
      "text/plain": [
       "<Figure size 432x288 with 1 Axes>"
      ]
     },
     "metadata": {
      "needs_background": "light"
     },
     "output_type": "display_data"
    }
   ],
   "source": [
    "plt.scatter(x_data, y_data2) \n",
    "plt.plot(x_data, fit_func(x_data, a_bestfit), 'r')\n",
    "plt.show()"
   ]
  },
  {
   "cell_type": "markdown",
   "metadata": {},
   "source": [
    "# Section 10 : For loop \n",
    "A for loop is used to run code multiple times.  If there is your first time learning coding, then you may want to skip this for now.  \n",
    "\n",
    "Here is a simple example of a for loop that prints the value of i for each iteration.  \n",
    "\n",
    "In the first loop, the variable i is set to the first element in the list, and then the code is run. In the second loop, the variable i is set to the second element of the list, and so forth.  The code is looped until it reaches the end of the list."
   ]
  },
  {
   "cell_type": "code",
   "execution_count": 55,
   "metadata": {},
   "outputs": [
    {
     "name": "stdout",
     "output_type": "stream",
     "text": [
      "0\n",
      "1\n",
      "2\n"
     ]
    }
   ],
   "source": [
    "list = [0, 1, 2] # a list\n",
    "for i in list:\n",
    "    print(i) # the code in the for loop must be indented\n",
    "    "
   ]
  },
  {
   "cell_type": "markdown",
   "metadata": {},
   "source": [
    "Here we will use a for loop to construct a list. We will use the array 'list' to store the values.  Before running the for loop, initialize 'list' to all zeros.  "
   ]
  },
  {
   "cell_type": "code",
   "execution_count": 73,
   "metadata": {},
   "outputs": [
    {
     "name": "stdout",
     "output_type": "stream",
     "text": [
      "[0. 0. 0. 0. 0. 0. 0. 0. 0. 0.]\n",
      "[ 0.  1.  4.  9. 16. 25. 36. 49. 64. 81.]\n"
     ]
    }
   ],
   "source": [
    "import numpy as np # if you already import numpy, you don't need to repeat this\n",
    "\n",
    "list = np.zeros(10) # create a list with zeros, which will be used to store the values during the for loop\n",
    "print(list)\n",
    "\n",
    "for i in range(10):     # range(10) is identical to [0,1,2,3,4,5,6,7,8,9]\n",
    "    list[i] = i**2 #i^2\n",
    "    \n",
    "print(list)"
   ]
  }
 ],
 "metadata": {
  "kernelspec": {
   "display_name": "Python 3",
   "language": "python",
   "name": "python3"
  },
  "language_info": {
   "codemirror_mode": {
    "name": "ipython",
    "version": 3
   },
   "file_extension": ".py",
   "mimetype": "text/x-python",
   "name": "python",
   "nbconvert_exporter": "python",
   "pygments_lexer": "ipython3",
   "version": "3.8.5"
  }
 },
 "nbformat": 4,
 "nbformat_minor": 2
}
