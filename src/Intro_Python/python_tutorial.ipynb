{
 "cells": [
  {
   "cell_type": "markdown",
   "metadata": {},
   "source": [
    "# Python and Jupyter tutorial\n",
    "This notebook is a tutorial to Jupyter and Python.  The first lab will reference sections in this notebook..  You can refer back to this notebook for hints throughout the semester.\n",
    "\n",
    "Jupyter notebook is a web-based document that can run Python code.  Python is a programming language that is widely used in industry and research.  Since Jupyter is free and open source, you can install it on your own computer. \n",
    "\n",
    "Because Python is so popular, there are many helpful tutorials and references online.  If you are confused about something in Python, a quick google search usually is very hepful.\n"
   ]
  },
  {
   "cell_type": "markdown",
   "metadata": {},
   "source": [
    "# Section 1: Running Python code\n",
    "Run Python code in a cell by selecting the cell and then either clicking run, or the shortcut Ctrl-Enter.  Run the print statement below. Add comments to your with #.  Anything on the line after # will be ignored."
   ]
  },
  {
   "cell_type": "code",
   "execution_count": null,
   "metadata": {},
   "outputs": [],
   "source": [
    "print(\"Hello world\") # comments to your code"
   ]
  },
  {
   "cell_type": "markdown",
   "metadata": {},
   "source": [
    "# Section 2: Inserting text into the notebook \n",
    "\n",
    "The Jupyter notebook will also serve as your lab notebook this semester. \n",
    "Comments can be added to your python code by inserting #, as shown in the print example.\n",
    "\n",
    "Text can be inserted into your notebook by changing a cell type to Markdown.\n",
    "\n",
    "If you run the text cell (ctrl-enter), it will format the text nicely."
   ]
  },
  {
   "attachments": {
    "image.png": {
     "image/png": "[encoded data removed]"
    }
   },
   "cell_type": "markdown",
   "metadata": {},
   "source": [
    "![image.png](attachment:image.png)"
   ]
  },
  {
   "cell_type": "markdown",
   "metadata": {},
   "source": [
    "Different font sizes are selected by inserting a different number of # before the title.\n",
    "# Title 1\n",
    "## Title 2\n",
    "### Title 3"
   ]
  },
  {
   "cell_type": "markdown",
   "metadata": {},
   "source": [
    "# Section 3: Simple math\n"
   ]
  },
  {
   "cell_type": "markdown",
   "metadata": {},
   "source": [
    "Define a variable x and print the value."
   ]
  },
  {
   "cell_type": "code",
   "execution_count": null,
   "metadata": {},
   "outputs": [],
   "source": [
    "x = 2+5\n",
    "print(x)"
   ]
  },
  {
   "cell_type": "markdown",
   "metadata": {},
   "source": [
    "In this case, x is an integer.  We can see that x is an integer by using type().  Notice that the following cell still has access to the variable x defined in the previous cell."
   ]
  },
  {
   "cell_type": "code",
   "execution_count": null,
   "metadata": {},
   "outputs": [],
   "source": [
    "type(x)"
   ]
  },
  {
   "cell_type": "markdown",
   "metadata": {},
   "source": [
    "# Section 4: Importing Libraries\n",
    "We will now import our first library, which will give us access to all of its functions.  You only need to import a library once in a notebook.  \n",
    "\n",
    "In this case, we will import the library \"numpy,\" which has many useful mathematical definitions such as sine, cosine, and an exponential.  We will give the library the nickname \"np,\" which we use to reference it.  \n",
    "\n",
    "If numpy has a function called sin() in its library, then we can use it with the notation np.sin().  Here are examples of math functions and constants we will use in the lab."
   ]
  },
  {
   "cell_type": "code",
   "execution_count": null,
   "metadata": {},
   "outputs": [],
   "source": [
    "import numpy as np # import the numpy library and give it the shortcut np\n",
    "\n",
    "# A function in numpy is called with np.function()\n",
    "x = np.sin(2) #trig functions\n",
    "print(x)\n",
    "\n",
    "x = np.exp(-2) #exponential\n",
    "print(x)\n",
    "\n",
    "x = 2**2 # 2^2, exponents are written with ** in Python\n",
    "print(x)\n",
    "\n",
    "print(np.pi) # 3.141....\n",
    "\n",
    "print(np.sqrt(4)) # square root function\n",
    "\n",
    "print( np.sqrt(2)*np.sin(np.pi/2) ) # a more complicated function sqrt(2)*sin(pi/2)"
   ]
  },
  {
   "cell_type": "markdown",
   "metadata": {},
   "source": [
    "# Section 5: Lists\n",
    "The numpy library also makes it easy to create and manipulate lists.  Make an array of data and print the contents.\n",
    "\n",
    "#### Note that if you already imported numpy in a different cell, you do not have to do it again. "
   ]
  },
  {
   "cell_type": "code",
   "execution_count": null,
   "metadata": {
    "scrolled": true
   },
   "outputs": [],
   "source": [
    "import numpy as np # import the numpy library and give it the shortcut np.  \n",
    "\n",
    "xlist = np.array([0, 1, 2, 3, 4, 5]) # create an array\n",
    "print(xlist)"
   ]
  },
  {
   "cell_type": "markdown",
   "metadata": {},
   "source": [
    "You can select individual elements from the list.  Note that in Python, 0 is the first index.  You can use negative indices to get values from the end of the array."
   ]
  },
  {
   "cell_type": "code",
   "execution_count": null,
   "metadata": {},
   "outputs": [],
   "source": [
    "print(xlist[0]) # get first element of list\n",
    "\n",
    "print(xlist[5])  # get last element \n",
    "print(xlist[-1]) # get last element using a negative index"
   ]
  },
  {
   "cell_type": "markdown",
   "metadata": {},
   "source": [
    "The lists are easy to manipulate. For example, here multiply a list by 2.  "
   ]
  },
  {
   "cell_type": "code",
   "execution_count": null,
   "metadata": {
    "scrolled": true
   },
   "outputs": [],
   "source": [
    "print( 2*xlist ) # multiply list by constant\n",
    "print( xlist + xlist ) # add two lists together\n",
    "print( np.sin(xlist) ) # functions can operate on lists"
   ]
  },
  {
   "cell_type": "markdown",
   "metadata": {},
   "source": [
    "Numpy also has useful functions for making evenly spaced arrays. "
   ]
  },
  {
   "cell_type": "code",
   "execution_count": null,
   "metadata": {},
   "outputs": [],
   "source": [
    "np.linspace(0, 10, 11) # evenly space array from 0 to 10 with 11 points"
   ]
  },
  {
   "cell_type": "code",
   "execution_count": null,
   "metadata": {},
   "outputs": [],
   "source": [
    "np.arange(0,10)# integer spaced list from 0 to 9"
   ]
  },
  {
   "cell_type": "markdown",
   "metadata": {},
   "source": [
    "# Section 6: Plotting\n",
    "In this example, we will plot a sine function.\n",
    "\n",
    "For plotting, we will install the library matplotlib and give it the nickname plt. \n",
    "We will first define a evenly space grid for the x-axis.   We need this because our sine function np.sin() will need to operate on a list of values to make the y-axis.\n",
    "\n",
    "For example:\n",
    "\n",
    "x = \\[0, 1, 2\\]   \n",
    "y = np.sin(x)  -->   outputs  \\[sin(0), sin(1), sin(2)\\]\n"
   ]
  },
  {
   "cell_type": "code",
   "execution_count": null,
   "metadata": {},
   "outputs": [],
   "source": [
    "import matplotlib.pyplot as plt # if you already imported this, you don't need to repeat again\n",
    "\n",
    "x = np.linspace(0, 6, 21) # define an evenly spaced array from 0 to 6 with 21 points for the x-axis data\n",
    "print(x)\n",
    "\n",
    "y = np.sin(x) # define the y-axis data\n",
    "\n",
    "plt.plot(x,y) # make a plot \n",
    "plt.show() # show the plot"
   ]
  },
  {
   "cell_type": "markdown",
   "metadata": {},
   "source": [
    "Here we change the color to red with the argument 'r' and then label the axes. \n"
   ]
  },
  {
   "cell_type": "code",
   "execution_count": null,
   "metadata": {
    "scrolled": true
   },
   "outputs": [],
   "source": [
    "plt.plot(x,y,'r') # make a red curve. Also try 'g-'\n",
    "plt.xlabel('X label')\n",
    "plt.ylabel('Y label')\n",
    "plt.title('Plot title')\n",
    "plt.show() # show the plot"
   ]
  },
  {
   "cell_type": "markdown",
   "metadata": {},
   "source": [
    "In this next example, we will plot two curves on the same graph by calling plot.plot() twice in the same cell.  \n",
    "Note that if you call plt.plot() in a different cell, it will start a new graph."
   ]
  },
  {
   "cell_type": "code",
   "execution_count": null,
   "metadata": {
    "scrolled": true
   },
   "outputs": [],
   "source": [
    "plt.plot(x, y,'r')  # plot first curve\n",
    "plt.plot(x, 2*y, 'g-') # plot second curve on top of first axes using green dashed\n",
    "plt.xlabel('X label')\n",
    "plt.ylabel('Y label')\n",
    "plt.title('Plot title')\n",
    "plt.show() # show the plot"
   ]
  },
  {
   "cell_type": "markdown",
   "metadata": {},
   "source": [
    "Adding a legend and making a scatter plot (optional).  "
   ]
  },
  {
   "cell_type": "code",
   "execution_count": null,
   "metadata": {},
   "outputs": [],
   "source": [
    "plt.plot(x, y, label='first')  # plot first curve\n",
    "plt.scatter(x, 2*y, label='second') # plot a scatter plot on top of first plot \n",
    "plt.xlabel('X label')\n",
    "plt.ylabel('Y label')\n",
    "plt.title('Plot title')\n",
    "plt.legend(loc='best') # create a legend using the plot labels\n",
    "plt.show() # show the plot"
   ]
  },
  {
   "cell_type": "markdown",
   "metadata": {},
   "source": [
    "Plotting a histogram.  Here we will make a list of 10 random numbers and plot them in a histogram "
   ]
  },
  {
   "cell_type": "code",
   "execution_count": null,
   "metadata": {},
   "outputs": [],
   "source": [
    "y = np.random.rand(50)  # make a list of 50 random number between 0 and 1\n",
    "print(y)\n",
    "plt.hist(y, 10, density=True) #use 10 bins\n",
    "plt.show()"
   ]
  },
  {
   "cell_type": "markdown",
   "metadata": {},
   "source": [
    "# Section 7: Defining a function\n",
    "Here is how to define a function.  In python, the content of the function is indented. The function ends when the indentation stops.  Note that you must include the colon after the function name."
   ]
  },
  {
   "cell_type": "code",
   "execution_count": null,
   "metadata": {
    "scrolled": true
   },
   "outputs": [],
   "source": [
    "import matplotlib.pyplot as plt\n",
    "import numpy as np\n",
    "\n",
    "# Define a function with two inputs\n",
    "def functionname(x, a):\n",
    "    y = a*x # line\n",
    "    return y # this value will be returned from the function\n",
    "\n",
    " # Call the function with x=1, a=1\n",
    "y = functionname(1, 1)\n",
    "print(y)\n"
   ]
  },
  {
   "cell_type": "markdown",
   "metadata": {},
   "source": [
    "Here we use the fnction to make a list of points to plot. "
   ]
  },
  {
   "cell_type": "code",
   "execution_count": null,
   "metadata": {},
   "outputs": [],
   "source": [
    "x = np.linspace(0,4,10) # evenly spaced array from 0 to 4 with 10 points\n",
    "y = functionname(x, 1) # call the function defined in the last cell\n",
    "plt.scatter(x,y) # similar to plot(), but with points instead of a line\n",
    "plt.show()"
   ]
  },
  {
   "cell_type": "markdown",
   "metadata": {},
   "source": [
    "# Section 8: Importing data from csv file"
   ]
  },
  {
   "cell_type": "markdown",
   "metadata": {},
   "source": [
    "Here we import data from a csv file made in Excel. Excel by default saves as .xlsx, but you can select to save as a csv file. \n",
    "\n",
    "Open Excel and insert data into two columns, and include column names."
   ]
  },
  {
   "attachments": {
    "image.png": {
     "image/png": "[encoded data removed]"
    }
   },
   "cell_type": "markdown",
   "metadata": {},
   "source": [
    "![image.png](attachment:image.png)"
   ]
  },
  {
   "cell_type": "markdown",
   "metadata": {},
   "source": [
    "Save the excel spreadsheet as a \".csv\" file in the same folder as the Jupyter notebook."
   ]
  },
  {
   "attachments": {
    "image.png": {
     "image/png": "[encoded data removed]"
    }
   },
   "cell_type": "markdown",
   "metadata": {},
   "source": [
    "![image.png](attachment:image.png)"
   ]
  },
  {
   "cell_type": "markdown",
   "metadata": {},
   "source": [
    "For importing data, we will use the library Pandas.  Import the library and then import the csv data.  We saved the contents of data.csv into an object \"df.\"  We then set the data in column with header \"x\" into an array \"x\". "
   ]
  },
  {
   "cell_type": "code",
   "execution_count": null,
   "metadata": {},
   "outputs": [],
   "source": [
    "import pandas as pd # Import pandas library with nickname pd\n",
    "import matplotlib.pyplot as plt\n",
    "\n",
    "df = pd.read_csv('data.csv') # read the csv file and save content in object df\n",
    "print(df) # Look at the content of df\n",
    "x = df[\"x\"].to_numpy() # Save data in the column with header \"x\" as a numpy array called x\n",
    "y = df[\"y\"].to_numpy() \n",
    "plt.scatter(x,y) #plot with points instead of line\n",
    "plt.xlabel('x')\n",
    "plt.ylabel('y')\n",
    "plt.show()\n"
   ]
  },
  {
   "cell_type": "markdown",
   "metadata": {},
   "source": [
    "# Section 9: Fitting data"
   ]
  },
  {
   "cell_type": "markdown",
   "metadata": {},
   "source": [
    "In lab, we will often want to fit a model to measured data.  In this example, we will fit a sine function to noisy data. \n"
   ]
  },
  {
   "cell_type": "markdown",
   "metadata": {},
   "source": [
    "To add noise to data, we will make a list of 50 random value taken from a normal distribution."
   ]
  },
  {
   "cell_type": "code",
   "execution_count": null,
   "metadata": {},
   "outputs": [],
   "source": [
    "import numpy as np\n",
    "import matplotlib.pyplot as plt\n",
    "\n",
    "noise = np.random.normal(size=50) \n",
    "print(noise)"
   ]
  },
  {
   "cell_type": "markdown",
   "metadata": {},
   "source": [
    "Now we will make a sine curve with 50 points and add the noise to it. "
   ]
  },
  {
   "cell_type": "code",
   "execution_count": null,
   "metadata": {},
   "outputs": [],
   "source": [
    "# Create data with noise\n",
    "x_data = np.linspace(-5, 5, 50)\n",
    "y_data = np.sin(1.5 * x_data) \n",
    "y_data2 = y_data + 0.2*np.random.normal(0,1,50)  # for noise, add a list of 50 points randomly generated from a normal distribution\n",
    "\n",
    "# Plot data with scatter plot\n",
    "plt.scatter(x_data, y_data2)\n",
    "plt.show()"
   ]
  },
  {
   "cell_type": "markdown",
   "metadata": {},
   "source": [
    "For fitting, import the function 'curve_fit' from the library 'scipy.optimize.'  To fit, we will define a model function fit_func(x, a) with a fitting parameter 'a'. Then we will call the function 'curve_fit' to perform the fit with starting guess 2 for 'a'.  The computer will start with a=2, and then vary a until the difference between the model and data is smallest. "
   ]
  },
  {
   "cell_type": "code",
   "execution_count": null,
   "metadata": {
    "scrolled": true
   },
   "outputs": [],
   "source": [
    "from scipy.optimize import curve_fit # import only curve_fit function from scipy library\n",
    "\n",
    "# Define a function to fit to the data, with a as the fitting variable.\n",
    "def fit_func(x, a):  # the function needs input arguments x and a.  a is the fitting parameter, and x is the independent variable.\n",
    "    y = np.sin(a * x) # this is the function we are going to tell the computer to fit with\n",
    "    return y  # the function returns this value, y = fit_func(x,a)\n",
    "\n",
    "# Perform the fit with a guess \n",
    "params, covariance = curve_fit(fit_func, x_data, y_data, p0=[2]) # Fit fit_func to data and use a=2 as starting guess\n",
    "\n",
    "# params contains the bestfit parameters for a\n",
    "a_bestfit = params[0]\n",
    "print( a_bestfit )\n",
    "\n",
    "# sqrt(covariance is the covariance matrix. Since we only have 1 fitting variable, the covariance is just a single element. \n",
    "# The square roots of the diagonal elements for the error of the fitted parameters.  which gives information about the goodness of the fit and uncertainty of the parameters.  \n",
    "error = np.sqrt(np.diagonal(covariance))\n",
    "a_error = error[0]\n",
    "print( a_error )\n"
   ]
  },
  {
   "cell_type": "markdown",
   "metadata": {},
   "source": [
    "Plot the noisy data with the fit"
   ]
  },
  {
   "cell_type": "code",
   "execution_count": null,
   "metadata": {},
   "outputs": [],
   "source": [
    "plt.scatter(x_data, y_data2) \n",
    "plt.plot(x_data, fit_func(x_data, a_bestfit), 'r')\n",
    "plt.show()"
   ]
  },
  {
   "cell_type": "markdown",
   "metadata": {},
   "source": [
    "# Section 10 : For loop \n",
    "A for loop is used to run code multiple times.  If there is your first time learning coding, then you may want to skip this for now.  \n",
    "\n",
    "Here is a simple example of a for loop that prints the value of i for each iteration.  \n",
    "\n",
    "In the first loop, the variable i is set to the first element in the list, and then the code is run. In the second loop, the variable i is set to the second element of the list, and so forth.  The code is looped until it reaches the end of the list."
   ]
  },
  {
   "cell_type": "code",
   "execution_count": null,
   "metadata": {},
   "outputs": [],
   "source": [
    "list = [0, 1, 2] # a list\n",
    "for i in list:\n",
    "    print(i) # the code in the for loop must be indented\n",
    "    "
   ]
  },
  {
   "cell_type": "markdown",
   "metadata": {},
   "source": [
    "Here we will use a for loop to construct a list. We will use the array 'list' to store the values.  Before running the for loop, initialize 'list' to all zeros.  "
   ]
  },
  {
   "cell_type": "code",
   "execution_count": null,
   "metadata": {},
   "outputs": [],
   "source": [
    "import numpy as np # if you already import numpy, you don't need to repeat this\n",
    "\n",
    "list = np.zeros(10) # create a list with zeros, which will be used to store the values during the for loop\n",
    "print(list)\n",
    "\n",
    "for i in range(10):     # range(10) is identical to [0,1,2,3,4,5,6,7,8,9]\n",
    "    list[i] = i**2 #i^2\n",
    "    \n",
    "print(list)"
   ]
  }
 ],
 "metadata": {
  "kernelspec": {
   "display_name": "Python 3.8",
   "language": "python",
   "name": "python3"
  },
  "language_info": {
   "codemirror_mode": {
    "name": "ipython",
    "version": 3
   },
   "file_extension": ".py",
   "mimetype": "text/x-python",
   "name": "python",
   "nbconvert_exporter": "python",
   "pygments_lexer": "ipython3",
   "version": "3.8.10"
  },
  "toc": {
   "base_numbering": 1,
   "nav_menu": {},
   "number_sections": true,
   "sideBar": true,
   "skip_h1_title": false,
   "title_cell": "Table of Contents",
   "title_sidebar": "Contents",
   "toc_cell": false,
   "toc_position": {},
   "toc_section_display": true,
   "toc_window_display": false
  },
  "varInspector": {
   "cols": {
    "lenName": 16,
    "lenType": 16,
    "lenVar": 40
   },
   "kernels_config": {
    "python": {
     "delete_cmd_postfix": "",
     "delete_cmd_prefix": "del ",
     "library": "var_list.py",
     "varRefreshCmd": "print(var_dic_list())"
    },
    "r": {
     "delete_cmd_postfix": ") ",
     "delete_cmd_prefix": "rm(",
     "library": "var_list.r",
     "varRefreshCmd": "cat(var_dic_list()) "
    }
   },
   "types_to_exclude": [
    "module",
    "function",
    "builtin_function_or_method",
    "instance",
    "_Feature"
   ],
   "window_display": false
  }
 },
 "nbformat": 4,
 "nbformat_minor": 4
}
