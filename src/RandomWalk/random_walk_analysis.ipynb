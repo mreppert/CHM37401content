{
 "cells": [
  {
   "cell_type": "markdown",
   "metadata": {},
   "source": [
    "# Data Analysis #\n",
    "\n",
    "In this section, you'll learn how to analyze your data using the Python programming language. "
   ]
  },
  {
   "cell_type": "markdown",
   "metadata": {},
   "source": [
    "## Instructions: ##\n",
    "### 1. Exit app mode: ###\n",
    "To get started, you first need to exit \"Appmode\" in your nanoHUB Jupyter Notebook session. To do that, click the \"Edit App\" button that shows up at the top right of your screen, as illustrated in the image below.<br>\n",
    "<img src=\"img/EditApp.png\" width=\"900\"/>\n",
    "This will allow you view and modify the Python source code that the Jupyter Notebook runs. <br><br>\n",
    "\n",
    "### 2. Enter your Temperature/Resistance Data from Part 1: ###\n",
    "\n",
    "Next, you'll need to enter your temperature/resistance data from Part 1 of this experiment. You'll enter the data as a *NumPy Array*. NumPy arrays are a type of Python variable that serve essentially as matrices to store data (like your experimental results) or for linear algebra operations (like solving systems of linear equations). In the code cell below, you can see the definition of a very simple array that contains the numbers 1, 2, 3, and 4. \n",
    "* The line `import numpy as np` tells Python that you're going to use NumPy variables. Otherwise, the Jupyter Compiler won't recognize the commands we use later that start with `np`. <br><br>\n",
    "* The array is *defined* in the line `MyArray = np.array([1,2,3,4])`. From now on, if you type the word `MyArray` in a code cell, the Jupyter Compiler will know that you really want to refer to the numerical data \\[1, 2, 3, 4\\]. <br><br>\n",
    "* The `print(MyArray)` command tells the notebook to print the contents of the array so that you can confirm they are what you expected. \n",
    "\n",
    "Execute the code cell by clicking on it with your cursor and pressing <Shift+Enter>. "
   ]
  },
  {
   "cell_type": "code",
   "execution_count": null,
   "metadata": {},
   "outputs": [],
   "source": []
  },
  {
   "cell_type": "markdown",
   "metadata": {},
   "source": [
    "### 9. Discussion and Conclusions\n",
    "\n",
    "Based on your observations, answer the following questions. Type your answers directly into the text cells following each question. (If instead of a text box you seen a statement like \"Type Markdown and LaTeX:  $\\alpha^2$\", just double click on that text to open the text box.) These are *Markdown* cells, i.e., they accept text input using the Markdown text-formatting language. Markdown allows you to produce nicely-formatted text. For example: \n",
    "* Text enclosed in a single pair of asterisks `*like this*` will be formatted in italics. \n",
    "* Text enclosed in a double pair of asterisks `**like this**` will be formatted in bold. \n",
    "* Text enclosed in dollar signs `$like this$` will be interpreted as a mathematical equation using LaTex syntax. \n",
    "\n",
    "When you are finished with your answer, type <Shift+Enter> to convert your input into formatted text. If you want to modify your input, just double-click on it to re-enter text entry mode. \n",
    "\n",
    "#### Question 1: Which temperature sensor do you think has the largest systematic error? Where might this systematic error come from? "
   ]
  },
  {
   "cell_type": "markdown",
   "metadata": {},
   "source": []
  },
  {
   "cell_type": "markdown",
   "metadata": {},
   "source": [
    "### 10. Submit! \n",
    "\n",
    "Finally, when you're satisfied with your answers, download your notebook as a PDF by selecting File > Download As > PDF via Latex (.pdf) from the dropdown menu at the top right of this window. (See screen shot below.) Then upload the PDF under the Lab1 assignment on the Brightspace page **for your lab section**. <br>\n",
    "\n",
    "Note: There are separate Brightspace pages for your lab section and for the Monday lecture. You will submit your PDF notebooks on your lab Brightspace page, **not** the Monday lecture page. \n",
    "\n",
    "<br>\n",
    "<img src=\"img/DownloadAs.png\" width=\"700\"/>"
   ]
  }
 ],
 "metadata": {
  "kernelspec": {
   "display_name": "Python 3",
   "language": "python",
   "name": "python3"
  },
  "language_info": {
   "codemirror_mode": {
    "name": "ipython",
    "version": 3
   },
   "file_extension": ".py",
   "mimetype": "text/x-python",
   "name": "python",
   "nbconvert_exporter": "python",
   "pygments_lexer": "ipython3",
   "version": "3.8.5"
  }
 },
 "nbformat": 4,
 "nbformat_minor": 4
}
